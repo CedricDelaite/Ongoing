{
 "cells": [
  {
   "cell_type": "markdown",
   "metadata": {},
   "source": [
    "This notebook aims at checking that the packages used in this lecture are installed on your machine\n",
    "\n",
    "If you use conda for managing environment, the following command will enable you to install the main packages within a new specific environment (We call this environment py_SPAT0086 herebelow, but feel free to chose another name): \n",
    "\n",
    "``` sh\n",
    "conda create --name py_SPAT0086 python=3.12 numpy scipy matplotlib astropy emcee torchvision pandas seaborn pytorch torchvision torchaudio cpuonly scikit-learn photutils -c conda-forge -c pytorch\n",
    "conda activate py_SPAT0086\n",
    "pip install astroML\n",
    "# To have the kernel appearing in a notebook, it may be needed to do the following\n",
    "conda install ipykernel nb_conda_kernels\n",
    "```"
   ]
  },
  {
   "cell_type": "code",
   "execution_count": 1,
   "metadata": {},
   "outputs": [
    {
     "name": "stdout",
     "output_type": "stream",
     "text": [
      "3.12.8 | packaged by conda-forge | (main, Dec  5 2024, 14:25:12) [Clang 18.1.8 ]\n"
     ]
    }
   ],
   "source": [
    "# Check python version\n",
    "import sys\n",
    "print(sys.version)"
   ]
  },
  {
   "cell_type": "code",
   "execution_count": 6,
   "metadata": {},
   "outputs": [
    {
     "name": "stdout",
     "output_type": "stream",
     "text": [
      "numpy: \n",
      "2.2.2\n",
      "scipy: \n",
      "1.15.1\n",
      "matplotlib: \n",
      "3.10.0\n",
      "sklearn: \n",
      "1.6.1\n",
      "astropy: \n",
      "7.0.0\n",
      "emcee: \n",
      "3.1.6\n",
      "os Installed\n",
      "subprocess Installed\n",
      "sys Installed\n",
      "random Installed\n",
      "astroML: \n",
      "1.0.2\n",
      "torch: \n",
      "2.5.1\n",
      "torchvision: \n",
      "0.20.1\n",
      "photutils: \n",
      "2.1.0\n",
      "************Optional modules************\n",
      "corner not available\n",
      "ipywidgets: \n",
      "8.1.5\n",
      "pandas: \n",
      "2.2.3\n",
      "seaborn: \n",
      "0.13.2\n"
     ]
    }
   ],
   "source": [
    "module_list = ['numpy', 'scipy','matplotlib', 'sklearn', \n",
    "               'astropy', 'emcee', 'os', 'subprocess', \n",
    "               'sys', 'random', 'astroML', \n",
    "               'torch', 'torchvision', 'photutils'\n",
    "              ]\n",
    "optional_list = ['corner', 'ipywidgets', 'pandas', 'seaborn']\n",
    "for module in module_list:\n",
    "    try:\n",
    "        exec('import ' + module)\n",
    "        if (module != 'os') & (module != 'subprocess') & (module != 'sys') & (module != 'random'):\n",
    "            print(module+': ')\n",
    "            exec('print(%s.__version__)'%module)\n",
    "        else:\n",
    "            print(module + ' Installed')\n",
    "    except:\n",
    "        print(module + ' not available')\n",
    "        \n",
    "print('{0:*^40}'.format('Optional modules'))\n",
    "for module in optional_list:\n",
    "    try:\n",
    "        exec('import ' + module)\n",
    "        print(module+': ')\n",
    "        exec('print(%s.__version__)'%module)\n",
    "    except:\n",
    "        print(module + ' not available')\n",
    "        "
   ]
  },
  {
   "cell_type": "code",
   "execution_count": null,
   "metadata": {},
   "outputs": [],
   "source": []
  }
 ],
 "metadata": {
  "kernelspec": {
   "display_name": "Python [conda env:py_SPAT0086_py312]",
   "language": "python",
   "name": "conda-env-py_SPAT0086_py312-py"
  },
  "language_info": {
   "codemirror_mode": {
    "name": "ipython",
    "version": 3
   },
   "file_extension": ".py",
   "mimetype": "text/x-python",
   "name": "python",
   "nbconvert_exporter": "python",
   "pygments_lexer": "ipython3",
   "version": "3.12.8"
  }
 },
 "nbformat": 4,
 "nbformat_minor": 4
}
